{
  "nbformat": 4,
  "nbformat_minor": 0,
  "metadata": {
    "kernelspec": {
      "display_name": "Python 3",
      "language": "python",
      "name": "python3"
    },
    "language_info": {
      "codemirror_mode": {
        "name": "ipython",
        "version": 3
      },
      "file_extension": ".py",
      "mimetype": "text/x-python",
      "name": "python",
      "nbconvert_exporter": "python",
      "pygments_lexer": "ipython3",
      "version": "3.8.5"
    },
    "colab": {
      "name": "謝欣汝_Week14_作業習題.ipynb",
      "provenance": [],
      "collapsed_sections": [],
      "include_colab_link": true
    }
  },
  "cells": [
    {
      "cell_type": "markdown",
      "metadata": {
        "id": "view-in-github",
        "colab_type": "text"
      },
      "source": [
        "<a href=\"https://colab.research.google.com/github/a109010169/a109010169/blob/main/%E8%AC%9D%E6%AC%A3%E6%B1%9D_Week14_%E4%BD%9C%E6%A5%AD%E7%BF%92%E9%A1%8C.ipynb\" target=\"_parent\"><img src=\"https://colab.research.google.com/assets/colab-badge.svg\" alt=\"Open In Colab\"/></a>"
      ]
    },
    {
      "cell_type": "markdown",
      "metadata": {
        "id": "VUbQBw4NztvS"
      },
      "source": [
        "**隨堂練習1： BMI 計算**\n",
        "\n",
        "請寫一個程式讓使用者輸入身高與體重，顯示BMI 值與肥胖程度。 BMI 等於體重（KG）除以身高（M）的平方，而BMI 與肥胖分類標準如下：\n",
        "\n",
        "若BMI 值小於18，則顯示「體重過輕」，否則若BMI 值小於24，則顯示「體重正常」，若BMI 值小於27，則顯示「體重過重」，否則顯示「體重肥胖」。"
      ]
    },
    {
      "cell_type": "code",
      "metadata": {
        "colab": {
          "base_uri": "https://localhost:8080/"
        },
        "id": "VqTYySJgztvT",
        "outputId": "eabc02a2-9304-4532-8ba7-5ef91bff3460"
      },
      "source": [
        "w = float(input('請輸入體重(KG)?'))\n",
        "h = float(input('請輸入身高(Ｍ)?'))\n",
        "bmi = w/(h*h)\n",
        "print('BMI為',bmi)\n",
        "if bmi < 18:\n",
        "    print('體重過輕')\n",
        "elif bmi < 24:\n",
        "    print('體重正常')\n",
        "elif bmi < 27:\n",
        "    print('體重過重')\n",
        "else:\n",
        "    print('體重肥胖')"
      ],
      "execution_count": 1,
      "outputs": [
        {
          "output_type": "stream",
          "text": [
            "請輸入體重(KG)?46\n",
            "請輸入身高(Ｍ)?162\n",
            "BMI為 0.0017527815881725347\n",
            "體重過輕\n"
          ],
          "name": "stdout"
        }
      ]
    },
    {
      "cell_type": "markdown",
      "metadata": {
        "id": "fipRF6PiztvU"
      },
      "source": [
        "**隨堂練習2： 三一律(單向選擇、雙向與巢狀選擇、多向選擇)**\n",
        "\n",
        "請輸入一個數，然後判斷這個數是正數、是負數或者是零。"
      ]
    },
    {
      "cell_type": "code",
      "metadata": {
        "colab": {
          "base_uri": "https://localhost:8080/"
        },
        "id": "drD-DXmTztvU",
        "outputId": "ba7c722c-a0c8-45ef-b9f3-dfbf60acc171"
      },
      "source": [
        "# 方法一：單向選擇\n",
        "num = int(input(\"Pick a number: \"))\n",
        "if num > 0:\n",
        "     print(\"Your number is positive.\")\n",
        "if num < 0:\n",
        "    print(\"Your number is negative.\")\n",
        "if num == 0:\n",
        "    print(\"Your number is zero.\")\n",
        "print(\"Finished\")\n",
        "\n",
        "# 方法二：雙向與巢狀選擇\n",
        "num = int(input(\"Pick a number: \"))\n",
        "if num > 0:\n",
        "     print(\"Your number is positive.\")\n",
        "else:\n",
        "    if num < 0:\n",
        "        print(\"Your number is negative.\")\n",
        "    else:\n",
        "        print(\"Your number is zero.\")\n",
        "print(\"Finished\")\n",
        "\n",
        "# 方法三：多向選擇\n",
        "num = int(input(\"Pick a number: \"))\n",
        "if num > 0:\n",
        "     print(\"Your number is positive.\")\n",
        "elif num < 0:\n",
        "    print(\"Your number is negative.\")\n",
        "else:\n",
        "    print(\"Your number is zero.\")\n",
        "print(\"Finished\")"
      ],
      "execution_count": 2,
      "outputs": [
        {
          "output_type": "stream",
          "text": [
            "Pick a number: 2\n",
            "Your number is positive.\n",
            "Finished\n",
            "Pick a number: 3\n",
            "Your number is positive.\n",
            "Finished\n",
            "Pick a number: 4\n",
            "Your number is positive.\n",
            "Finished\n"
          ],
          "name": "stdout"
        }
      ]
    },
    {
      "cell_type": "markdown",
      "metadata": {
        "id": "c7UzGYuhztvU"
      },
      "source": [
        "**練習5   體溫與發燒**\n",
        "\n",
        "設計程式根據體溫判斷是否發燒，由使用者輸入體溫，程式判斷是否發燒，假設體溫小於36度，顯示「體溫過低」，體溫大於等於36度小於38度，顯示「體溫正常」，否則若體溫大於等於38度小於39度，顯示「體溫有點燒」，否則體溫大於等於39度，顯示「體溫很燒」。\n",
        "\n",
        "輸入體溫「36.5」，輸出為「體溫正常」。\n",
        "\n",
        "～程式執行結果如下。\n",
        "\n",
        "請輸入體溫？36.5\n",
        "\n",
        "體溫正常"
      ]
    },
    {
      "cell_type": "code",
      "metadata": {
        "colab": {
          "base_uri": "https://localhost:8080/"
        },
        "id": "gRfpTUFNztvV",
        "outputId": "9819c27c-82ca-4b1e-8db8-969cca26ec74"
      },
      "source": [
        "體溫 = float(input('輸入體溫'))\n",
        "if 體溫 < 36:\n",
        "    print('體溫過低')\n",
        "elif 體溫 < 38:\n",
        "    print('體重正常')\n",
        "elif 體溫 < 39:\n",
        "    print('體溫有點燒')\n",
        "else:\n",
        "    print('體溫很燒')\n",
        "    \n",
        "  "
      ],
      "execution_count": 3,
      "outputs": [
        {
          "output_type": "stream",
          "text": [
            "輸入體溫42\n",
            "體溫很燒\n"
          ],
          "name": "stdout"
        }
      ]
    },
    {
      "cell_type": "markdown",
      "metadata": {
        "id": "Bsxk8Te3ztvV"
      },
      "source": [
        "**練習6  閏年判斷**\n",
        "\n",
        "設計程式允許輸入西元幾年，請求出該年是否是閏年，閏年表示該年多一天，若為4的倍數稱做閏年，但若為100的倍數就不為閏年，且若為400倍數又是閏年。(四年一潤、百年不潤、四百年再潤)\n",
        "\n",
        "輸入年份「2012」，輸出為「2012是閏年」。\n",
        "\n",
        "～程式執行結果如下。\n",
        "\n",
        "請輸入年份？2012\n",
        "\n",
        "2012 是閏年"
      ]
    },
    {
      "cell_type": "code",
      "metadata": {
        "colab": {
          "base_uri": "https://localhost:8080/"
        },
        "id": "nUJmGMbtztvW",
        "outputId": "cb8e481b-36e8-435f-f2ef-ba1d0c9f00ae"
      },
      "source": [
        "年份 = int(input('西元幾年？'))\n",
        "if 年份 % 4 != 0:\n",
        "    answer = \"不是閏年\" \n",
        "else:\n",
        "    if 年份 % 100 != 0 :\n",
        "        answer = \"閏年\"\n",
        "    else:\n",
        "        if 年份 % 400 == 0 :\n",
        "            answer = \"閏年\"\n",
        "        else:\n",
        "            answer = \"不是閏年\"\n",
        "\n",
        "print(answer)\n"
      ],
      "execution_count": 4,
      "outputs": [
        {
          "output_type": "stream",
          "text": [
            "西元幾年？2021\n",
            "不是閏年\n"
          ],
          "name": "stdout"
        }
      ]
    },
    {
      "cell_type": "markdown",
      "metadata": {
        "id": "7bATb_oDztvW"
      },
      "source": [
        "**練習12：計程車計費**\n",
        "\n",
        "某城市計程車計費3公里以內6元，超過3公里不足10公里、每公里1.8元，超過10公里則超過部分加收50%。此外停車等候每3分鐘收1元，請用Python寫出車費是多少。"
      ]
    },
    {
      "cell_type": "code",
      "metadata": {
        "colab": {
          "base_uri": "https://localhost:8080/"
        },
        "id": "8_rW9WSwztvX",
        "outputId": "e4e4b770-6f83-4ed8-d855-245086930b00"
      },
      "source": [
        "里程數 = int(input('總里程數(KM)'))\n",
        "if 里程數 <= 3:\n",
        "    money = 6 \n",
        "else:\n",
        "    if 里程數 < 10:\n",
        "        money = 6 + (里程數 - 3) * 1.8\n",
        "    else:\n",
        "        money = 6 + 7 * 1.8 + (里程數 - 10) * 1.8 * 1.5\n",
        "print(\"金額 =\", money)"
      ],
      "execution_count": 5,
      "outputs": [
        {
          "output_type": "stream",
          "text": [
            "總里程數(KM)800\n",
            "金額 = 2151.6\n"
          ],
          "name": "stdout"
        }
      ]
    },
    {
      "cell_type": "code",
      "metadata": {
        "id": "lENVsJfhlni6"
      },
      "source": [
        ""
      ],
      "execution_count": null,
      "outputs": []
    }
  ]
}