{
  "nbformat": 4,
  "nbformat_minor": 0,
  "metadata": {
    "colab": {
      "name": "謝欣汝-week4-練習作業.ipynb",
      "provenance": [],
      "authorship_tag": "ABX9TyPrMYJU2FGTUWVR4l+OHlPs",
      "include_colab_link": true
    },
    "kernelspec": {
      "name": "python3",
      "display_name": "Python 3"
    }
  },
  "cells": [
    {
      "cell_type": "markdown",
      "metadata": {
        "id": "view-in-github",
        "colab_type": "text"
      },
      "source": [
        "<a href=\"https://colab.research.google.com/github/a109010169/a109010169/blob/main/%E8%AC%9D%E6%AC%A3%E6%B1%9D_week4_%E7%B7%B4%E7%BF%92%E4%BD%9C%E6%A5%AD.ipynb\" target=\"_parent\"><img src=\"https://colab.research.google.com/assets/colab-badge.svg\" alt=\"Open In Colab\"/></a>"
      ]
    },
    {
      "cell_type": "code",
      "metadata": {
        "id": "rJDWnVvvYKCr"
      },
      "source": [
        "  "
      ],
      "execution_count": null,
      "outputs": []
    },
    {
      "cell_type": "markdown",
      "metadata": {
        "id": "4t21i03BYKjB"
      },
      "source": [
        ""
      ]
    },
    {
      "cell_type": "markdown",
      "metadata": {
        "id": "hSmj74WFYKo2"
      },
      "source": [
        "# 隨堂練習"
      ]
    },
    {
      "cell_type": "markdown",
      "metadata": {
        "id": "AmfLE_4CYqSB"
      },
      "source": [
        "# 課後練習"
      ]
    },
    {
      "cell_type": "markdown",
      "metadata": {
        "id": "Na4_2D94aP5D"
      },
      "source": [
        "**提出你對新聞系學生為什麼要學「運算思維與程式設計」的見解。(告訴我新聞連結，以及你的觀點即可)**"
      ]
    },
    {
      "cell_type": "markdown",
      "metadata": {
        "id": "dAxXZyQ7bIDo"
      },
      "source": [
        "https://www.storm.mg/article/3117067?page=1&fbclid=IwAR1qxalB1YU4HVosr1cKTXt9AHh1mflbjYClMVJucF_vVWPgX_wvS4N1Hjw\n"
      ]
    },
    {
      "cell_type": "markdown",
      "metadata": {
        "id": "wwFle6J5Yuou"
      },
      "source": [
        "身為新聞系的學生，我認為我們不能只學習新聞專業，程式設計逐漸興起我們也應該多元學習。我認為學習程式設計也是必須的，對於未來也會有幫助。                                                                                                                                                                                                                                           "
      ]
    },
    {
      "cell_type": "code",
      "metadata": {
        "id": "zx0Usnr4sVZR"
      },
      "source": [
        ""
      ],
      "execution_count": null,
      "outputs": []
    }
  ]
}